{
 "cells": [
  {
   "cell_type": "markdown",
   "id": "45e466d3-1eae-4d7b-854f-cbd7140fa9ee",
   "metadata": {},
   "source": [
    "Credits to: https://stackoverflow.com/users/1390022/derricw\n",
    "\n",
    "https://stackoverflow.com/questions/34588464/python-how-to-capture-image-from-webcam-on-click-using-opencv"
   ]
  },
  {
   "cell_type": "code",
   "execution_count": 1,
   "id": "a1fe64ff-6eb0-4ea6-996a-dfd30f451c9b",
   "metadata": {},
   "outputs": [],
   "source": [
    "import cv2"
   ]
  },
  {
   "cell_type": "code",
   "execution_count": 7,
   "id": "03e8bae8-2670-4df8-a654-32f2cce6d656",
   "metadata": {},
   "outputs": [
    {
     "name": "stdout",
     "output_type": "stream",
     "text": [
      "calib0.png written!\n",
      "calib1.png written!\n",
      "calib2.png written!\n",
      "calib3.png written!\n",
      "calib4.png written!\n",
      "calib5.png written!\n",
      "calib6.png written!\n",
      "ESC hit, closing now ...\n"
     ]
    }
   ],
   "source": [
    "cam = cv2.VideoCapture(0)\n",
    " \n",
    "cv2.namedWindow(\"LIVE\")\n",
    " \n",
    "img_counter = 0\n",
    " \n",
    "while True:\n",
    "    ret, frame = cam.read()\n",
    "    \n",
    "    if not ret:\n",
    "        print(\"Failed to grab frame!!\")\n",
    "        break\n",
    "    cv2.imshow(\"LIVE\", frame)\n",
    " \n",
    "    k = cv2.waitKey(1)\n",
    "    \n",
    "    # if ESC is pressed\n",
    "    if k%256 == 27:\n",
    "        print(\"ESC hit, closing now ...\")\n",
    "        break\n",
    "        \n",
    "    # if SPACE is pressed\n",
    "    elif k%256 == 32:\n",
    "        img_name = \"calib{}.png\".format(img_counter)\n",
    "        cv2.imwrite(img_name, frame)\n",
    "        print(\"{} written!\".format(img_name))\n",
    "        img_counter += 1\n",
    " \n",
    "cam.release()\n",
    " \n",
    "cv2.destroyAllWindows()"
   ]
  },
  {
   "cell_type": "markdown",
   "id": "1c983436-74cc-4001-a3df-5b64466f002a",
   "metadata": {},
   "source": [
    "* Frame size: 640 x 480"
   ]
  },
  {
   "cell_type": "code",
   "execution_count": 6,
   "id": "181b8922-acfa-48c0-98d6-98b8876b49b8",
   "metadata": {},
   "outputs": [],
   "source": [
    "# !rm op*.png"
   ]
  },
  {
   "cell_type": "code",
   "execution_count": null,
   "id": "fc22440a-68fc-4d19-8066-35a3f81ba4b4",
   "metadata": {},
   "outputs": [],
   "source": []
  }
 ],
 "metadata": {
  "kernelspec": {
   "display_name": "Python 3 (ipykernel)",
   "language": "python",
   "name": "python3"
  },
  "language_info": {
   "codemirror_mode": {
    "name": "ipython",
    "version": 3
   },
   "file_extension": ".py",
   "mimetype": "text/x-python",
   "name": "python",
   "nbconvert_exporter": "python",
   "pygments_lexer": "ipython3",
   "version": "3.9.12"
  }
 },
 "nbformat": 4,
 "nbformat_minor": 5
}
